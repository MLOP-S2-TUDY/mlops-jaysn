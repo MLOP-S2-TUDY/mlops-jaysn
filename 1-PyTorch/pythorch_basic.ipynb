{
 "nbformat": 4,
 "nbformat_minor": 0,
 "metadata": {
  "colab": {
   "provenance": []
  },
  "kernelspec": {
   "name": "python3",
   "display_name": "Python 3"
  },
  "language_info": {
   "name": "python"
  }
 },
 "cells": [
  {
   "cell_type": "markdown",
   "source": [
    "<img src=\"data:image/jpg;base64,/9j/4AAQSkZJRgABAQEASABIAAD/2wBDAAYEBQYFBAYGBQYHBwYIChAKCgkJChQODwwQFxQYGBcUFhYaHSUfGhsjHBYWICwgIyYnKSopGR8tMC0oMCUoKSj/2wBDAQcHBwoIChMKChMoGhYaKCgoKCgoKCgoKCgoKCgoKCgoKCgoKCgoKCgoKCgoKCgoKCgoKCgoKCgoKCgoKCgoKCj/wgARCADsAOwDASIAAhEBAxEB/8QAGwAAAgIDAQAAAAAAAAAAAAAAAAECBAMFBgf/xAAaAQEAAwEBAQAAAAAAAAAAAAAAAQMEAgUG/9oADAMBAAIQAxAAAAGiM9Xy0pAhiUNoiMEMEMEMAYIYIZJAQFJCGCGEiYQJiYKYhEgiSJRjkIQDm+O99qOajl1bSpWKrc2Wpk5nc77mp219Ycr1mzJBZCyuCmQgTRMbTEkERtESQmJIFWnw9VrpPdefu0r9E4PnrP3nmfqvNlzaz1dGjF5Qbq/Nb3m/w9NISPX8eJCnPV8r2XMiRBEkRcgSkzG5a7nrmNQ8vm+h0PqVexl2nL7a/wA9eIZfWPOL83pmLDtKdHA+gY6kxbnNcd8pPPj9vw8eKwXVYnkQ2AElEImSgjocmurrukPL9Xwj0Gh6FZTOjeq06bMKXk/dfpmXx7JZT7rrq3KV3aTT7v0vRk8w9f8AC/bqdFWh0JM8pPp9BrxVia3+fJSEIYAyFjd0b3ie+AVWpgAB5ZzPbcTrxdli0eTrjsjqLWXZ4jd9blZXyfYBVcAc9ABzMrdf2fDQy/OiaImLOWdvzmTzPV35rY5tm0NPehaA47NJuyY0G8mAFdMtNzOK6Oq3fnWdPoZgz0gMSNRjhk9rwhsspVW3zNd9OzW22D2dnt5rRhAIl67YYE1s9XJVZsrWn5fPq9ANfj4jacp03Gz1rGno6EBvet887Kni/oDJs81Jm3z5DChyt+r5/trteL9CiQeO3NkqaLSV3bV4u6pt0ey1BozFShbq1Xcl6xdj1+PaDrSR32klrrexNGCrZZZUhkwhonrtlzFV9Aa8z6C52/AdndjucZ03ITxgIKjdn9B833sV7+3qberHmyNdcAAFPGmODc67umbb04YSHKJJESRCWh6B82cIdfz+H1b2/s2smnz6l2XGdyQnjnvJ1Og7i7MY8hblol4KRdBMqlrWzulDPhy6cMhndUVMIkkZBkRFshXLBXdz+h77V0beSnaw0b91t7hfjboE83sVeI8zrjtQzgAGu2NCyqy2X4YkiIiSRMYRJBEYJNlK5jVWuwBVpAACBqr+uszGxE4kADX5M1uebC3GiQRbYMBDQDBDQUr1GvReTVOwACjcq9V4tiavqraEYV6c1OFqyjFYZbjAJgBkWMAABiYCBio36PNlwDP6AGIq7CndvwKvZhPFnSmxrummrc4MkgYmAhh//8QAKxAAAgIBAwQBAwUAAwAAAAAAAgMBBAAFEhMQESAwFAYhQCIjMTM0FUFg/9oACAEBAAEFAv8AxTGAuGagEYd505Nhs5yswbLhxWoFGIet0fiFMDFm/M4UyU+AgZYvTrbMfSbTGveZy/hPaKAs2DeXWkkLD16FWGFabUXkRA5qN4KarDzsN0bTOeWBKXfgOYKgsvJ55U02zZxWhLELKTrt/jNGvfKTmoWop1rDjsN0qnDZW8e+or3I6MnsO6cWUzPr1F/K7NCqy6301ZKbYNWajqvKs8LMGOpVvl1KejzyqWKgsL5EqLkSA7OvHGQMR67zeKtilk1ldUJTnebOCMCN+ku4t2l2V2KlOVUHnxrUEJWWoVBkDE4WELCzG277IgmGukoc1LTFvRMSM/T1LaOO/cOI7QZiAzq1OJmwmwGXDFMX77bZ5p106bRKCG3XJpTWsRh7l+ou+V0wlfS7QlutAMAOIGe960FRNy220zAIgLSLU2qf1I+ZfpFGdQt2tF05NGImZrjII6fzlivwZH3jzpBud17R36/UDpZfzRNGnUB+oNPr0GfTMT8bX6JOhDm1mttXL86RpXBPjIcTvOjHap569QPlyvds1gqVnXn1UDXRhKWUiAh53P8AR50T2+l+l1XSvSKYYACA9GsBQnqiowNUXMrMWB4WZ3W/GWhvwg3Yq23d8rJY88Fj0wl62+h7RSpzTezpXcddiWi5XRpwtY9/GwziVi3sVihKwIxAx1uQHGsLCh+XISuwpnjrDO7PDR27W4UwIsObB+NtnI7NORDWeLABmMI6+MMvj6zDzqg56s3PCuN1WAwDzVP93hXPZZK4qMPc6fG43jT37Z/1SXx1urrC0w7UTOaO5VhcQl8x3i5cg9N0klLt3GnNhZW24NNMYdFRz/xy8nTwxVSDyKasFCo9FlnK7AVJl0MxAbGoSWT95ok6HR9wnuBqtCBWiD5VSq2SWkF+LW87fTdZxp6VCmG9NRZJu6A01HWaLlR/vyFhBeH8YUzYytEbPTdPfY6AWxlewDxtt4a7jgy2537YP3yhYfBcjF2AsKPxKwHfiNs4Y8Mx6bNQt3SNMbxKqDFa4bpb0LppidisNYHnxVRnAWcBZ8VeREDHR1ieyNvF6X1wdjqzUyqwpvTVKxPDoGVlc7/QbhGeIm5ERENXtIJgh9Rh3yDestSe4sjC6aeLFKiyvv8Az1afGsGGJNcC87Nbi1iseq/0O9rqSmY+qxEpDmbEdomImJrLzY4c3PjOxtY2Bkf26+K5PGf9vut/0QI9/KwRlbUmF+Sv1v8Ac0dyqxbq/iZQA7ONK12IGO/bq9mLGFh76n2DxfO9l7+vwY39Slcf4Kfs/wADKAGsM9pjN/xiEoKGMBY/uOxYCsfwZ/Tc8GfvO6TOy0dVRTUWH4ln7T1cWxVQeyOhDBDJM5hGAH1f/8QAJxEAAgIBBAICAgIDAAAAAAAAAQIAAxEEEBIhIDETQSIwMkBCUWH/2gAIAQMBAT8B/qohb1FoA9wIonER9PmPWU/TXXyir9CFCPcq4/c6EZi5wJbQGT/uwXMIx4gZirjqIvEQjlGQqep7HcUBdr14uR5aaj5Dk+p8a4xiV197PYFnzGM345hOZQY+nRzky7R47TxpXggHhZ77gGYE/HBnwRV476pQthxvgiabUgji0NiiBwdiAfcAA8r35uTtp6vlfEtROPYgUL63W0iV8nUtA6nwLBfc1Oq5fim+jp4JmXvnrZKS0+P6hGOplUpwD2duRhtIEa9z9wsTvpq/ksA2vXBzKhlp6h67jnJ8LVJXrxrsNZyJVrVfo+50YgC9Q/6l7f4+VlfHyS96/RlWvx/OLarDkIxyc+Vo/H9GmPWPAMD63vfrH6NP/Le1uIlD/W1lwHQhOf0VHDb2vyMQ4Msfry//xAAlEQACAgEEAgICAwAAAAAAAAABAgARAxASIDEEIRMwIkEyQFH/2gAIAQIBAT8B/qu4TuN5BPULsZuMTyCO4mQP19OXJtELfswMDHuWTANsw5ir/QWoRms2YzWYPUDgzo+oSW0wNuQHl5Of4xQ7nyNdx39aKm6fGIF91KqZREzugoTD5l+n45m3OTwTqGbvyufLC16+M27GCeHkePR3LBiYxsZXvS6lk6DHGx/5oJhTYgGmV9qxGa/UJvVsSmHHNhiD3qyEn1PH8bb+Ta533GY9GeochBgNi5VmVKECgwY1Eoa5m2rpjMyH1oVvqIKWuCGjxdQwox8BXqEkGbt2mMfvkrXybEr9xvGr+MKEejAKHLH39GTgRWqD9/Rk1UXGGipOvobVRUMUe+X/xAA6EAACAAMFBgIJAwMFAQAAAAABAgADERIhMUFREBMgIjJxMGEjM0JScoGRocEEQGIUsdFDU2CDouH/2gAIAQEABj8C/wCFc7ARyKT3i4he0XzGjrb6xdMMekFY5Tfp+1qxoIsybhrFSa8PKpPYRyyH+d0B5rqrZKDfAtmqn9naeL8NOAS3mbuucc7Ox+kcslfnfHKAO0VN8w9KwZk01Yxvp49FkPegyz3U6j9iWbCKt8hsqqWV95oO8mFnplgIaXMFCNll/Wpj57DMIqcAPOC801Yxbmq7geyucLLZGlH2Qwi2OqXzf523RjFPEoOhdgdkrKXXXbRbTT1wsCv1izMUq2hhZiYiJDr0TM9DDSx1YiKTjeMQMoCIKKIZc8u8K3vCGln2DTbhF3hsRibhsVEFWN0JLXBRsuJEjX3/AP5FlQAPKKPc2TQJVi1XAjOFkM3NW1XQwSLzgB5xeb8WbUxQz0rFpGDDygKMBDfzUHxbErqzOkc43jatB3IsTBeKYGKHGP6mYLz0bNyMMX7RQRachR5xTe/QQHkOHKG1QY7BOmnkl301MXmymSjZUXoepYDDA3wjowDLdeI/0m+ZEemQp55eEAt7saARZF5zOu2wOmZzn8wFUUA2TGbFm+2UW3+Q1gtMbsMhsqpIPlAZ+scphJPsqKwJVbK0qx8omEpZsrW2WgAYxLU4hQNt8GZK9X7SaeYi7wGmHBeUfngrnwMnsy7thmzHsSQaXYmJayJhJIvU5RNJwLQJ8oVZRQiLcp2RxmICzJkyb5QJ36j1mS6cTyx09S9vAl9q+A36mWKoery2FZE50U5AxdU+8xhZSYLs5kQ9xHIoXsOOWc7J8AyTlevbwatLof43R6u18RiiKFHlttTGCjzjkSY32jmluvnjFpGDDy4fhXisWha02f2IyizY3wHtrdHqJ30jlRZfmxqY9IN8vvLj9I5GBOmfgM74CLczHIabbUv5jWFdMDtLtgILN1ManhLZ5RffFxtLoYDMDLl6ZmKKKDgqyWnwXWsCzOt6iZAE+S6k3CzzAxRZi10z4UlZAWjwtKODXjvsJY0AgNhLHSNfPiu6VuGwu3Sn9+Ky2OIvvj1oYaPjAnBSHT0lk+ULNm7lVYgWVWpv84AkzHrWgXGsb87qZKGJrZIgW7cv41jkdW7GG+EcMpsOaKKbZ0WKzcMkGHFd1G4RfsQZ4ng9I1PLOLMrkH3gvPtoCKVcYwbd9s3P+IocDEv9LjOU0b+NDBmfqnHo1tKNTCzSFRZjeqOuveL1SUupvP0gkpaY4sYqbdfij1kyPWv9oLW3s+z2i+p7mLpa+AT7IuGzluGe205AHnFJHKPeMVJqdTB/p5SO2rZRSYBU4jKJv6fdGZLWlPIGLE0sNGcUhyjBrVDdfG8b0ffGKgc2pvPDuV9WL2bXy8K7qa4bVl+y7ivy21b1Y5V/O0buYyVxpAZCWyqRSJ3wr+dloIoOtOG+KISsnNve7RbApawGgy8IjJLtquL7JrFU+hhnzyhbNbCigrF10c0WoWRLsEY3iHedLuKgVS+OVxXTDholZjaLFZ/T/tj87LS+rzGnhF5V9byseey1bW37sS5b9SjEZQZU43IbrsdtNdm8PU/9tnOobuI5bS/CxEXfqJv2MX/qJv2Ec1p/iNYoBQbSJK7zU5CFsGoAp4XML9RFoC2ozEcjqTpsVpd7plrtrrCplie3g2RV391Y9OeX3FwiguEb2Vj7S+9AIwPhgqbLA1BipO9XMUpTtCiw8uXqDjspsMzdWrehvpFGJQ6OKRdtLHKAs+grgww7RzYnADExzHdLoMYogoOCbLy6h8/GqvI38YqeYG6qwstc8YoMIoRURyWpZ/gaRyzg3xrF8pG7NC7xLCLfSuJiy+DXRdVpjfNmgmZQVwUZcP8A1/nxyR7NGi0FFdeNElLWyK1OAME9TnFjxTZmXQPl47rqIln+I4izYCGmu8xWa8hTnHNPv+GL7zwbuX6xvsNYCrgP2DL7rkcSSR8TdoVskcMeGxK5pn2HeCSbTti37GeOzcJZsBBmP1vf2GkXwJbVaWekjFYqpqIq7ACLqypf/o/4iygoP2S/ySn04d17K3v+BtkOem9frFbNG1U0hpnUbRozXmn7SSc94OB2GIFYXU8xOp2lWFQY3G9ex94CrcB4f//EACkQAQACAQIFAwUBAQEAAAAAAAEAESExQRAgUWFxgZGhMLHB0fDhQPH/2gAIAQEAAT8h41NP+uvr1KlSuSvoJCVElSpUqVyVLd2zeYRnrhFcB2Rv7jhT7oczHiephnuDNZXHfjXGuNSuFcalR+QN2OP3DLQl1eV2vXyaYDqfyibO6y4EbpSVpKzwqVKlSvqPU8HWWF1tGhwMsvpDebKLt6T3gaMyp6/uh1A9BU+9mnd7T7XmdogLB2v/ABHDUqx/FnNXCsSuNSpXFG8PmI2x7HCksPYJfPKGhPzLSz9+8FQmpCv8VdjrwzjHuuBmzZ9Y/k6BLkZigHsJiYCtqdzZ7TUs0eC3aovul4Z4BKlcGEqVK4Wz7B378Kh9VRjo4st8WF2h0YbEePLp1OkLu8fgYPxMTTWvUmD2o26+erAt4gE2Kpb6DRgNBQqeTMTXFfTt8Sol+IxA4VK4HCpUOLjLQS5ZwJiiaEDkKGPvwEtCxTD/AB7wsJ6AqV4p09T/ACBCxt7EHxrgaWXKRe6loTEd1bHUZ6Bo3C6jurJcfoFzt0HyYfxK5K+hTYdSaHq/qBD1bP8AGhKBcAw7FRiaBpJd7DtsbvC4LSLDbo9YABQYA2jIJ1VU1u91SCdP0DRx4eATQnqaJH9w6rHA6qrsP+xnbEEBljqhGaF4CBLh/X7yAJY456lRiv6hoGyGX1XXjWGqk6EUWHQHAAdM9mIX51weqiEk6vscBB3oqprbNvXvC6pZnVYNanZYd8mtLusQ2bTQTXfR7cUAgEdmVbKM9B/GJSzId5XKEqfss+78cmxGFXvyJRwBPl4OWoFMu8R1paL0Q+lWvaNKqHqnWHu2QnSIZ09iIIKf7Xvzf7yDb0eNchAo72eV+gFxmg1XXxwzz0cKU64t5deWaGtq7vXhYFeosKoLwc4OwfyctSuAWubd5a+z9DXWN+93DI3fcZQpdhXFT1BUS9RqnzBAX4fZDzjuuWwDbPVb/EqViHHJj73AKXYjaKV2l095XDs3i/E7Eelf3MMH/wCCMSselR87vSaPjXSPT6H72h6RgvYaHoQ4bDnxn9xo7Pjo6l+e0vP4yriTM3Y0Dqxzeo5V3YZVB/dx8Fz/ADwQWQdA5MNLMOEtKZVq6wLL7JmDODZnPTMStOs17HlrZ+VaEOSx2D0mvAQgrV0JSBy01XV+Oa2Ffum7wEO2wdf8c1TpugHchAuzFn4TX2mNXRqDlX3mGgKCO7v4gDVD4NTLFQb0m1EcX2jim0vIHvC7I7DBr8W5cstKG7dtI0q6bfzpKekLaMO71eFSuKN/d1hWBrvtLLO0u/Ues55Lsa21L0j4OkpblDMySn52lat15b6+naEmgUwv4BOjEvdIQQUo3K06y8EDI0DDDWQG+dT+HeUxZeofbSXwNKu7j1n8B+oItA8RqRXoF6oDRN/Dm4FFBRz1M/y3wpeJXblqVWDQxwZBe6l2b0LL4JZXPqlrMSDzZj52gTRDFmFnjlEvYZ6RASDIrw9+8OIiN8nSviBhFsiydjbzEMhavZ68uv8ARS07UqtNPo3J/WuGCjgNqVeo4iJNyuymqDenA4HfX9a3h9TVYX4nuHhzhnYQIDyqBUAarD+gPhHTs7y1EMw02HDeb8tcKkcVfO/Fylgp1lmM76hK6L0nqzN0OtS9X1Y7n+EvoeppM71YPE1Zb0R6SxasGnF67ms9/Y29nkcFukEvXL7uhAKkORLPVvDEvtbn707TKVcqVwSVxdq9Y19JuiINR1ItEWaTLuYO1wLb1XSuzEAXW9UbPfi9Dr9kwHYmB9/xs4E/PEuWZhTpfL+CW63w/glrZTvxWF0Arix+jBl/s8EwerjnqVwHug6Ykg61Bpz6kqb0XRz7cBjyPAwbL4ZW/wDxL2/XQ+hW/wAkfXpLV0dV8neAwA0COgfYP3FasLOSpUrkqY4YY3TCt70Q+6LsK1s271pKVjSZ0d9fE2mIHmU08HhyYiC0J1OJ5t0dXYhJt3w/l95QidpX6E3p6v8ALt6Sjftb+eTzAePV88tfQ8xRB62h8kquOpqe0spr9BvCIKBQShLoJctX/AsaTbR0/IT8YP7wVaBIPsdIWO1Cd46Z0AuC48uD1O/LTD1RXNX0LmvL2GDzHsM84wH1otF9Ljdr3Mf85SYtopPl8vAiQOTfgkriEsjdPiXfq8xondsV1VKC0PsQxn3iUJUb9RquRhGxY+8mnMVE4VKhx1+h2GX4u/zzdaCdov5Zgv4lhkxpyLYzc+7+kIIott/8/wCHs1Q9T/OVDKO1iRq0XsQCILHCMEcskCgbPbvC5E3J5llvMfqTAJ/IP+LMbN6lf55cQbfe/i+NwKsr0pj7RPntUP4jsTRswGjP/JiOgPex5EpdsXAblGxqmrxLAKkZ45rxh5q4edOg5jl//9oADAMBAAIAAwAAABCPuLv+/wC/CHAPWyyHe/HJbfSw2FmRPi6Cby6Jy3432ob8F1VhZgy1vaxJiKc0szw5+H4+PhiiMb7VdPW+e+V9nFd+ujG0t383+du8pY85YndNW/cU80iiQ0zfae8xfE+/PO1Kl4sZRmf/AMpF/wD48KySZAn2e9S989+5w7ZR2PEJnM+vOf8AZojHPbPaJ/8A/wDDf8C+OOeQEcdf+Lb4V8+irziihH/v6fZYBiDD/8QAHxEBAAIDAAMBAQEAAAAAAAAAAQARECExIEFRMIFh/9oACAEDAQE/ECEGODCyrlYMrk8F42204BFPUA2FRjcrwcBKju3koKYXcWNDcobqetEchxOOBYrxZgQgGHChTL1ANOP0MpyDUd5snztHWxQ19R3ND7gzsglMVWxGyNh3Kd38nNOe6hieARwiolk3XYAoyLZOwkJ9iAXc5bjiJxDBbGzCgWwxcKHp7mt1QyhgU5PZx0jRPaRR5ORgVqoIeX3KWesuHzjbOiVpMdKn8kEGAe42Vi/U6Dn4h2GippXI4JL9oiz5AVM1Kl4r/wAO4wA32EIivSbweLGd+vDeNdqlyj/Y+WWy8idvwtXgufjJFPfwdIzawNqWT2qx3b+FZlv8ZTMVqeX/xAAfEQEAAgMBAQADAQAAAAAAAAABABEQITEgQTBRYUD/2gAIAQIBAT8Q/wAo1xxtE6jKt3FaVwi/C/I1HZc2RGiVFksVcM29lqeMGy8kuXOwmWM2Cku4TTFIO5FTLl5Nz9ppZYywB9gxtmJcl8giiBpl69SwS7sxctjsYuERWog7GtE55GduCLiFwRjLwYlQThMC4j2MC2iH9gVCU1ArRGRxZP2bFResO+z4EIaIj8lW+LJqe4i+v6zpThD1wOhDCw6H2XpgCfwilBDOQLhm3Ze4SVKKSrjf2jAu+C2elG+2JXOQQthyfd5IQrLnfHcEQxRKA9KpuWwXN4G78fRnf+ANZVR+ypY7gAo8HgWRhK1w2VO7F+P/xAAnEAEAAgEEAgIDAQEBAQEAAAABABEhMUFRYXGBEJEgobHB0eHwMP/aAAgBAQABPxAYmb+QUm+JXwQ0iQ1+KxK+oFRlQlfDK+KlXAOJVRgQMYgqlYlZjqSuZUqVcolSpWZUBJWZ5TpDkRPMrggSpk4blXcqJxKlfAZ0qJaGkBvCrc6ZaU6muNNJjrENtOJWZWjvBVmdYGnLway98NCPusD/AFl+S9M/kXq1rtG9JwqfuLH/AM820thYW4h6nKVnEN7lRXUTM0ZlG8D9TJlFxJgzKJmiCm2sq5TeUuGyq1KCcPqsy8cReq6payrNPi+5ctw3ZP4JRqjgP4hKOPaBwUB5lRfEAQ7ko2uULEzA7meYu+ogdIESJC1ifhUDaVOsoer4IqrWuwf97mkOCYroJouFUtjosCFWy1H0ETB/SxwbKcAAfUw7I5cr9HaNAX6GwNg4mYBKqlzyDneAHW/Lap7MPp3lVNoDUCJKbzxC2Epm9YGZReY0caQptKbTBEzcA4Dputg7j1A4BwZnaD+uz9bvqXkaU4jDWv6ReNJ0NhyMctEsSGC0LPGHvZ+MVCbZLq+sWx6j8uwbAbBxB7au/Uc6dC7YY29UpmqKQ2u5Qackzo+zLyEEHKQjyfFGtVeIhb6GaHVa1pKgW3BbTJcRKMVA7wXWY4SwcRSwN1I6etSaLf4a+ZBNMO29oAAAUYDieoYAiPeaMB7smu9+gka2WG2N5dJBoX82UsnsfKo6q4aabTxeT3G1UioF0HQ7RsZdoBY+G/69wga0VzmF2JEXNm2w/pHVtvu4bf2IXb2hhEvtFt1rqVgw6yz1AoqFCmJDKN4Kj4gNyos5C0S9xSg3l1fRc5uAoGI3YfWGOhaz7OZdFukF2BSqjWnU2WZ8IbkaEB6mG9tXLw89JQOJiILW3SjUY6gbKQE1yFf2KKqiN9X2P0McDFUcjU4NjgCIxQ0igfIVNNxR09kQhC2Latf9h28dnIyZSpUR2lkzKLxDT42mYEC4WqQ1XfY8anxMEJ7PrQdBKEZcuTdot2YolyNRNSaApUM/6uh7+G7d/q2guy7OgYSAYBQDQJoc6cHtmuKNP2JUUFuboLZ1PqfyChd7wUndLXb1HVipyhy8vbMmkNqoVw8nA2ZcwU8iWRaecZIOzYiS9dXqFPYw+PWrI38vdQGJRYmblSupUfEAqBnOkp6jxuoaCArRe70Fr0RoVW8PVf4bGPnFvgfa+x+4JYXTgCg+F+LqdsJ9F+47yq48M65ZYmmBUcD/AGe5nXwqj2RDLdyJp5JDpk21ql5oP2y92xi0q0N1UPcBQWGrWTploqt47U4BartMBHXCC/kyhUhYnZHFNU883CG/DSIjAhA4R0Y0ZRKvqV3+ogzkmqV8sHDup/h9vwxHVorga1fH4dDEkKCebf18YzeqQaC8AYzKU3i3S1gVduHiWqUB2xk/slXwWXZUHNXpMCJhLeHk6Y8QvCW3gqMIZtYw9n8filiII6jvAOUaHhW/QTwkR4mDEbQElVLomoXeWRu5OUL+/wA3JK2iiWIrDlWu0caxAl4Ymta2eyIEvRI7pq9QHnA3NZXa/C7nkn2kvZmoRfo/M5rsjsKf3AiFSrlXp8WjUCKUiW99Y8o+k/8AwQCARKpgQGy5h7DH6iYBzYv1ghTTAcfR8hj3Avo5fEUHQini1/qJzLWgPIr/AFNFUdw/8evwTMBEI70qn0PuMmxMSBvCBQRVqj489SuoXd06CK2YSmyiEjYyeT0S9B0UH20lp/4GKgPll24q0huNCnK9SxNcr7LyR/NskPQ1TAO1l7TQj/6GrqwGxEvzDDZC97gm3BjJbQspHcTZH5fRzgarYdrghB87pXT0KPUGAYIBtlbKqYKF8909bwNztOoJlYWHuvAdaj9kJ1Jloe0/Tl6h3todAfJL5UGZoIFJnL0MOxYypu0Q83KJjDwF0aDQ4SMxLDVvNT+o4afwRasAOqW3wC+5oPi/ESyLmBHxoPZn18LkwvQG6xbt9E4Vt0fMueiVmBOrlfFujf8A+B6+KkeDmNfPIKxyn5EVVKixN4bHOsSj8O38Zq8qEdpVRiyrkp7j/hwpyineg0GsauCNdQBuPmW0UCtIsdKI218xcXIYk9BP3BbNv/NYxlA0j4YOCXj5DIQqABZW+GEj+Befeh7Y9Y7MTZf/ACOJqZ+HkStvhFQemUz6H+S4IGK5XniVWRJdkb/ucL+h6/C7HaP0RmWPxr0FND9seuQqwlC9ndaxSBpfytx/RQ6awP7QXIlMU+/HRI5gCji2MosjVxjuA4Dm9o8WBrdxulVYIY3zNmibAc2aIZSjRG50fSoNIKRS2GrEqWg4tdQsCC1QA+palnpQDFsbuTqo9b/dX0VFRMmi/wC0ACBoBQepTKlfFVtNNZnG0pwhr7P8l3rpEFyLquggrlt+mAIFBQOCE1ubVCZLzTiHdp5ZYRd++DAVaKA+zVvtg8AmQNZC9TzAZfFWhSqFsNI2YlvcjgOeqp6MEmREkLANXDHccmyjOKbCeVvBHrjU55Sz6KPxLG0KYBq7cvV6SAIAAABoEyyoGYmLlQ/UQYjpHRUmpoJl6P7AAFAUEIbTTJkslPGNJr8BRrDOzGurV9QAKEdz4JxNWMDVaVBxlyAAXeyAN39JSECFnDkmOK1+2A/E6jKigOVmp0W4JrwLfdtzEIDNIOB8GfKwLeoRWiNXEplUOIaZmWYkyIAA91/D1H4DeGtrDUvwwg8rYq9W52YmOJKmq4P++oCturA5cd0YA2nuGryTFFDjv/xM601PD/srQNyvMqq3KHuYEpjK7U/gYjV9wn6GbDs7nyhEoargleS28X/4LY2bhYl5/h08zQDAYA2lZKWjuXP9htrKCxEciZEjZc1HUA5jUBmGkzKjzNjBWdV/4y2/LR6ThJdNLWgarxK2MXJuW591UKtgmO2qGTL7igdA2lKmMOI6SoisTU63P+TlUH0Q2pgC9dl71fJ8UILq/qCCFzjPq6/U2t7H9iLOI3P5FoBCW530tfqFR7QQ+j42lwcKl3D5nZG6AAeqmGzZ62m0riBiVhazDOkTqATMcMQMYuHFGb32tzplKiXA0j+naAHCYa8jqs+BHqytb4HkSyEYEvZ1JdFum8sQUqw42SgWL7TT20fcFFAAaB/+GIMWFR2tB2xGLqCP9T6weYSc6BQHQTL45LTkODs76MoHM3IyrgVKvadZ2mEqViVnHxYlEraHJuIokomlG62yZ7F8QwJ1qrYBaAbO7FTcQUU2RrdS76DWYOAQMpgxCaGArV13iw04sK+lw+mGWPRLH38hfQYGqNB2qE4bJlBdr0G21PUubaz+IM+9ImzHcE+NHwy7ma2W7lytV7fkp0h4CBxZQ6A/cD6gG9ys9RLqplXMo4v1KqJiVcqVNo5EFjhHeNVGWoT6GUKvOUa0Os9XEyxWtxyn1/YN4IGgGAjhE1EPpgtWLtBff/CVyibW32n8lMGt3+Yf7Hq5EXTF4C3yzuTaCtPDi72qAd2fdeXNdtBKY3hTh/aeivlLIFR0jVv/AB/2NGJiVAJUqHKVmtYkTE3iRKIFwWEHE61/VxiQNJRHnX81anTViNw1gN7jyzrL6+uAY/BwRXEArTliyjqw9RA3gsJwazJAzEOGAsqrMSUHuK4jdSrm4QwFlXV6qIktZ81T+z8m4RLnBGw1XDQGI5qCw7FqZxeFrmEEQKGhea2/CzVaQY0HirblgkJW3q9vbq/AG+0oyxpBXF/CuJTlpEmvwlzFQKKJ50lv+WgP1+TWu8RwQ+g9MDnwQcXL6sfURYrWRNz8MCqG+i7n8GWGaxrr2A2GxtAJVwKlSp9y4DuTSJcDMohV1Eyys4iNVAqj+nl/f4xrsO2CIbYJ6kfqMvawmgkCxHZg6JqBBRNTZWw1gE+seybIALZXAar4ivzm0U9Gztz4hcxzyrdXVe2OtwhhhqzJNYfkSo/KWv8ANh+lN/wRlrKvC1+3LoOZWcymV1MvaEF3y09x2JmWDy2LgZL1emgLQw6fHjSVcCV8OsqVcLPwqVj43PnakC9EH1+B+KhFlhZcCqDUsEUff0ETA/GyyQSS/Bc7ONP7LvuERENsHw/L8tofH//Z\" />\n",
    "\n",
    "## 백엔드 개발자를 위한 MLOps\n",
    "\n",
    "### 2.2 PyTorch 기본 실습\n",
    "\n",
    "Tensor 조작 및 nn.Module 이해"
   ],
   "metadata": {
    "id": "ruiAhCaHkE9H"
   }
  },
  {
   "cell_type": "code",
   "source": [
    "# colab install command\n",
    "# !pip install torchviz"
   ],
   "metadata": {
    "collapsed": true,
    "id": "fEQN5G4Svdhk"
   },
   "execution_count": null,
   "outputs": []
  },
  {
   "cell_type": "code",
   "source": [
    "from torchviz import make_dot\n",
    "import torch\n",
    "import torch.nn as nn\n",
    "import torch.optim as optim\n",
    "import matplotlib.pyplot as plt"
   ],
   "metadata": {
    "id": "JPsCh1xrw5gt"
   },
   "execution_count": 3,
   "outputs": []
  },
  {
   "cell_type": "code",
   "source": [
    "x = torch.tensor([1.0, 2.0, 3.0], requires_grad=True)\n",
    "y = torch.tensor([4.0, 5.0, 6.0], requires_grad=True)\n",
    "\n",
    "# 덧셈\n",
    "z = x + y\n",
    "print(z)  # tensor([5, 7, 9])"
   ],
   "metadata": {
    "colab": {
     "base_uri": "https://localhost:8080/"
    },
    "id": "gJyxo5qgkqJU",
    "outputId": "64611eb8-427f-45ee-b173-fc946c4ceac5"
   },
   "execution_count": 4,
   "outputs": [
    {
     "name": "stdout",
     "output_type": "stream",
     "text": [
      "tensor([5., 7., 9.], grad_fn=<AddBackward0>)\n"
     ]
    }
   ]
  },
  {
   "cell_type": "markdown",
   "source": [
    "만약에 로컬 환경에서 실행한다면\n",
    "\n",
    "$ brew install graphbiz\n",
    "\n",
    "실행하여 make_dot 실행할 수 있도록 하기"
   ],
   "metadata": {
    "collapsed": false
   }
  },
  {
   "cell_type": "code",
   "execution_count": 3,
   "outputs": [
    {
     "data": {
      "image/svg+xml": "<?xml version=\"1.0\" encoding=\"UTF-8\" standalone=\"no\"?>\n<!DOCTYPE svg PUBLIC \"-//W3C//DTD SVG 1.1//EN\"\n \"http://www.w3.org/Graphics/SVG/1.1/DTD/svg11.dtd\">\n<!-- Generated by graphviz version 9.0.0 (20230911.1827)\n -->\n<!-- Pages: 1 -->\n<svg width=\"538pt\" height=\"238pt\"\n viewBox=\"0.00 0.00 538.00 238.00\" xmlns=\"http://www.w3.org/2000/svg\" xmlns:xlink=\"http://www.w3.org/1999/xlink\">\n<g id=\"graph0\" class=\"graph\" transform=\"scale(1 1) rotate(0) translate(4 234)\">\n<polygon fill=\"white\" stroke=\"none\" points=\"-4,4 -4,-234 534,-234 534,4 -4,4\"/>\n<!-- 140425573495680 -->\n<g id=\"node1\" class=\"node\">\n<title>140425573495680</title>\n<polygon fill=\"#caff70\" stroke=\"black\" points=\"405,-30.5 125,-30.5 125,0 405,0 405,-30.5\"/>\n<text text-anchor=\"middle\" x=\"265\" y=\"-17\" font-family=\"monospace\" font-size=\"10.00\">tensor([5., 7., 9.], grad_fn=&lt;AddBackward0&gt;)</text>\n<text text-anchor=\"middle\" x=\"265\" y=\"-5.75\" font-family=\"monospace\" font-size=\"10.00\"> (3)</text>\n</g>\n<!-- 140425328088000 -->\n<g id=\"node2\" class=\"node\">\n<title>140425328088000</title>\n<polygon fill=\"lightgrey\" stroke=\"black\" points=\"309,-108.25 221,-108.25 221,-66.5 309,-66.5 309,-108.25\"/>\n<text text-anchor=\"middle\" x=\"265\" y=\"-94.75\" font-family=\"monospace\" font-size=\"10.00\">AddBackward0</text>\n<text text-anchor=\"middle\" x=\"265\" y=\"-83.5\" font-family=\"monospace\" font-size=\"10.00\">&#45;&#45;&#45;&#45;&#45;&#45;&#45;&#45;&#45;&#45;&#45;&#45;</text>\n<text text-anchor=\"middle\" x=\"265\" y=\"-72.25\" font-family=\"monospace\" font-size=\"10.00\">alpha: 1</text>\n</g>\n<!-- 140425328088000&#45;&gt;140425573495680 -->\n<g id=\"edge5\" class=\"edge\">\n<title>140425328088000&#45;&gt;140425573495680</title>\n<path fill=\"none\" stroke=\"black\" d=\"M265,-66.09C265,-58.57 265,-49.94 265,-42\"/>\n<polygon fill=\"black\" stroke=\"black\" points=\"268.5,-42.21 265,-32.21 261.5,-42.21 268.5,-42.21\"/>\n</g>\n<!-- 140425318251824 -->\n<g id=\"node3\" class=\"node\">\n<title>140425318251824</title>\n<polygon fill=\"lightgrey\" stroke=\"black\" points=\"217,-163.5 117,-163.5 117,-144.25 217,-144.25 217,-163.5\"/>\n<text text-anchor=\"middle\" x=\"167\" y=\"-150\" font-family=\"monospace\" font-size=\"10.00\">AccumulateGrad</text>\n</g>\n<!-- 140425318251824&#45;&gt;140425328088000 -->\n<g id=\"edge1\" class=\"edge\">\n<title>140425318251824&#45;&gt;140425328088000</title>\n<path fill=\"none\" stroke=\"black\" d=\"M180.63,-143.91C192.04,-136.4 208.93,-125.28 224.61,-114.96\"/>\n<polygon fill=\"black\" stroke=\"black\" points=\"226.46,-117.93 232.89,-109.51 222.61,-112.08 226.46,-117.93\"/>\n</g>\n<!-- 140425591741136 -->\n<g id=\"node4\" class=\"node\">\n<title>140425591741136</title>\n<polygon fill=\"lightblue\" stroke=\"black\" points=\"256,-230 0,-230 0,-199.5 256,-199.5 256,-230\"/>\n<text text-anchor=\"middle\" x=\"128\" y=\"-216.5\" font-family=\"monospace\" font-size=\"10.00\">tensor([1., 2., 3.], requires_grad=True)</text>\n<text text-anchor=\"middle\" x=\"128\" y=\"-205.25\" font-family=\"monospace\" font-size=\"10.00\"> (3)</text>\n</g>\n<!-- 140425591741136&#45;&gt;140425318251824 -->\n<g id=\"edge2\" class=\"edge\">\n<title>140425591741136&#45;&gt;140425318251824</title>\n<path fill=\"none\" stroke=\"black\" d=\"M137.64,-199.2C142.78,-191.44 149.16,-181.81 154.65,-173.51\"/>\n<polygon fill=\"black\" stroke=\"black\" points=\"157.55,-175.48 160.15,-165.21 151.71,-171.62 157.55,-175.48\"/>\n</g>\n<!-- 140425591972400 -->\n<g id=\"node5\" class=\"node\">\n<title>140425591972400</title>\n<polygon fill=\"lightgrey\" stroke=\"black\" points=\"413,-163.5 313,-163.5 313,-144.25 413,-144.25 413,-163.5\"/>\n<text text-anchor=\"middle\" x=\"363\" y=\"-150\" font-family=\"monospace\" font-size=\"10.00\">AccumulateGrad</text>\n</g>\n<!-- 140425591972400&#45;&gt;140425328088000 -->\n<g id=\"edge3\" class=\"edge\">\n<title>140425591972400&#45;&gt;140425328088000</title>\n<path fill=\"none\" stroke=\"black\" d=\"M349.37,-143.91C337.96,-136.4 321.07,-125.28 305.39,-114.96\"/>\n<polygon fill=\"black\" stroke=\"black\" points=\"307.39,-112.08 297.11,-109.51 303.54,-117.93 307.39,-112.08\"/>\n</g>\n<!-- 140425591739776 -->\n<g id=\"node6\" class=\"node\">\n<title>140425591739776</title>\n<polygon fill=\"lightblue\" stroke=\"black\" points=\"530,-230 274,-230 274,-199.5 530,-199.5 530,-230\"/>\n<text text-anchor=\"middle\" x=\"402\" y=\"-216.5\" font-family=\"monospace\" font-size=\"10.00\">tensor([4., 5., 6.], requires_grad=True)</text>\n<text text-anchor=\"middle\" x=\"402\" y=\"-205.25\" font-family=\"monospace\" font-size=\"10.00\"> (3)</text>\n</g>\n<!-- 140425591739776&#45;&gt;140425591972400 -->\n<g id=\"edge4\" class=\"edge\">\n<title>140425591739776&#45;&gt;140425591972400</title>\n<path fill=\"none\" stroke=\"black\" d=\"M392.36,-199.2C387.22,-191.44 380.84,-181.81 375.35,-173.51\"/>\n<polygon fill=\"black\" stroke=\"black\" points=\"378.29,-171.62 369.85,-165.21 372.45,-175.48 378.29,-171.62\"/>\n</g>\n</g>\n</svg>\n",
      "text/plain": "<graphviz.graphs.Digraph at 0x7fb7618c00a0>"
     },
     "execution_count": 3,
     "metadata": {},
     "output_type": "execute_result"
    }
   ],
   "source": [
    "make_dot(z, params={x: x, y: y, z: z}, show_attrs=True, show_saved=True)"
   ],
   "metadata": {
    "collapsed": false
   }
  },
  {
   "cell_type": "code",
   "source": [
    "s = z.sum()"
   ],
   "metadata": {
    "id": "7J_UDPjtk3Si"
   },
   "execution_count": 4,
   "outputs": []
  },
  {
   "cell_type": "code",
   "source": [
    "make_dot(s, params={x: x, y: y, z: z, s: s}, show_attrs=True, show_saved=True)"
   ],
   "metadata": {
    "colab": {
     "base_uri": "https://localhost:8080/",
     "height": 439
    },
    "id": "Npmk8srwuFwo",
    "outputId": "ee784079-0b40-46b2-fbfd-14b41c7d9fd0"
   },
   "execution_count": 5,
   "outputs": [
    {
     "data": {
      "image/svg+xml": "<?xml version=\"1.0\" encoding=\"UTF-8\" standalone=\"no\"?>\n<!DOCTYPE svg PUBLIC \"-//W3C//DTD SVG 1.1//EN\"\n \"http://www.w3.org/Graphics/SVG/1.1/DTD/svg11.dtd\">\n<!-- Generated by graphviz version 9.0.0 (20230911.1827)\n -->\n<!-- Pages: 1 -->\n<svg width=\"538pt\" height=\"316pt\"\n viewBox=\"0.00 0.00 538.00 315.75\" xmlns=\"http://www.w3.org/2000/svg\" xmlns:xlink=\"http://www.w3.org/1999/xlink\">\n<g id=\"graph0\" class=\"graph\" transform=\"scale(1 1) rotate(0) translate(4 311.75)\">\n<polygon fill=\"white\" stroke=\"none\" points=\"-4,4 -4,-311.75 534,-311.75 534,4 -4,4\"/>\n<!-- 140425322759328 -->\n<g id=\"node1\" class=\"node\">\n<title>140425322759328</title>\n<polygon fill=\"#caff70\" stroke=\"black\" points=\"378,-30.5 152,-30.5 152,0 378,0 378,-30.5\"/>\n<text text-anchor=\"middle\" x=\"265\" y=\"-17\" font-family=\"monospace\" font-size=\"10.00\">tensor(21., grad_fn=&lt;SumBackward0&gt;)</text>\n<text text-anchor=\"middle\" x=\"265\" y=\"-5.75\" font-family=\"monospace\" font-size=\"10.00\"> ()</text>\n</g>\n<!-- 140425572761504 -->\n<g id=\"node2\" class=\"node\">\n<title>140425572761504</title>\n<polygon fill=\"lightgrey\" stroke=\"black\" points=\"333,-108.25 197,-108.25 197,-66.5 333,-66.5 333,-108.25\"/>\n<text text-anchor=\"middle\" x=\"265\" y=\"-94.75\" font-family=\"monospace\" font-size=\"10.00\">SumBackward0</text>\n<text text-anchor=\"middle\" x=\"265\" y=\"-83.5\" font-family=\"monospace\" font-size=\"10.00\">&#45;&#45;&#45;&#45;&#45;&#45;&#45;&#45;&#45;&#45;&#45;&#45;&#45;&#45;&#45;&#45;&#45;&#45;&#45;&#45;</text>\n<text text-anchor=\"middle\" x=\"265\" y=\"-72.25\" font-family=\"monospace\" font-size=\"10.00\">self_sym_sizes: (3,)</text>\n</g>\n<!-- 140425572761504&#45;&gt;140425322759328 -->\n<g id=\"edge6\" class=\"edge\">\n<title>140425572761504&#45;&gt;140425322759328</title>\n<path fill=\"none\" stroke=\"black\" d=\"M265,-66.09C265,-58.57 265,-49.94 265,-42\"/>\n<polygon fill=\"black\" stroke=\"black\" points=\"268.5,-42.21 265,-32.21 261.5,-42.21 268.5,-42.21\"/>\n</g>\n<!-- 140425318533728 -->\n<g id=\"node3\" class=\"node\">\n<title>140425318533728</title>\n<polygon fill=\"lightgrey\" stroke=\"black\" points=\"309,-186 221,-186 221,-144.25 309,-144.25 309,-186\"/>\n<text text-anchor=\"middle\" x=\"265\" y=\"-172.5\" font-family=\"monospace\" font-size=\"10.00\">AddBackward0</text>\n<text text-anchor=\"middle\" x=\"265\" y=\"-161.25\" font-family=\"monospace\" font-size=\"10.00\">&#45;&#45;&#45;&#45;&#45;&#45;&#45;&#45;&#45;&#45;&#45;&#45;</text>\n<text text-anchor=\"middle\" x=\"265\" y=\"-150\" font-family=\"monospace\" font-size=\"10.00\">alpha: 1</text>\n</g>\n<!-- 140425318533728&#45;&gt;140425572761504 -->\n<g id=\"edge1\" class=\"edge\">\n<title>140425318533728&#45;&gt;140425572761504</title>\n<path fill=\"none\" stroke=\"black\" d=\"M265,-143.83C265,-136.52 265,-128.1 265,-120.06\"/>\n<polygon fill=\"black\" stroke=\"black\" points=\"268.5,-120.24 265,-110.24 261.5,-120.24 268.5,-120.24\"/>\n</g>\n<!-- 140425571322944 -->\n<g id=\"node4\" class=\"node\">\n<title>140425571322944</title>\n<polygon fill=\"lightgrey\" stroke=\"black\" points=\"217,-241.25 117,-241.25 117,-222 217,-222 217,-241.25\"/>\n<text text-anchor=\"middle\" x=\"167\" y=\"-227.75\" font-family=\"monospace\" font-size=\"10.00\">AccumulateGrad</text>\n</g>\n<!-- 140425571322944&#45;&gt;140425318533728 -->\n<g id=\"edge2\" class=\"edge\">\n<title>140425571322944&#45;&gt;140425318533728</title>\n<path fill=\"none\" stroke=\"black\" d=\"M180.63,-221.66C192.04,-214.15 208.93,-203.03 224.61,-192.71\"/>\n<polygon fill=\"black\" stroke=\"black\" points=\"226.46,-195.68 232.89,-187.26 222.61,-189.83 226.46,-195.68\"/>\n</g>\n<!-- 140425591741136 -->\n<g id=\"node5\" class=\"node\">\n<title>140425591741136</title>\n<polygon fill=\"lightblue\" stroke=\"black\" points=\"256,-307.75 0,-307.75 0,-277.25 256,-277.25 256,-307.75\"/>\n<text text-anchor=\"middle\" x=\"128\" y=\"-294.25\" font-family=\"monospace\" font-size=\"10.00\">tensor([1., 2., 3.], requires_grad=True)</text>\n<text text-anchor=\"middle\" x=\"128\" y=\"-283\" font-family=\"monospace\" font-size=\"10.00\"> (3)</text>\n</g>\n<!-- 140425591741136&#45;&gt;140425571322944 -->\n<g id=\"edge3\" class=\"edge\">\n<title>140425591741136&#45;&gt;140425571322944</title>\n<path fill=\"none\" stroke=\"black\" d=\"M137.64,-276.95C142.78,-269.19 149.16,-259.56 154.65,-251.26\"/>\n<polygon fill=\"black\" stroke=\"black\" points=\"157.55,-253.23 160.15,-242.96 151.71,-249.37 157.55,-253.23\"/>\n</g>\n<!-- 140425591761568 -->\n<g id=\"node6\" class=\"node\">\n<title>140425591761568</title>\n<polygon fill=\"lightgrey\" stroke=\"black\" points=\"413,-241.25 313,-241.25 313,-222 413,-222 413,-241.25\"/>\n<text text-anchor=\"middle\" x=\"363\" y=\"-227.75\" font-family=\"monospace\" font-size=\"10.00\">AccumulateGrad</text>\n</g>\n<!-- 140425591761568&#45;&gt;140425318533728 -->\n<g id=\"edge4\" class=\"edge\">\n<title>140425591761568&#45;&gt;140425318533728</title>\n<path fill=\"none\" stroke=\"black\" d=\"M349.37,-221.66C337.96,-214.15 321.07,-203.03 305.39,-192.71\"/>\n<polygon fill=\"black\" stroke=\"black\" points=\"307.39,-189.83 297.11,-187.26 303.54,-195.68 307.39,-189.83\"/>\n</g>\n<!-- 140425591739776 -->\n<g id=\"node7\" class=\"node\">\n<title>140425591739776</title>\n<polygon fill=\"lightblue\" stroke=\"black\" points=\"530,-307.75 274,-307.75 274,-277.25 530,-277.25 530,-307.75\"/>\n<text text-anchor=\"middle\" x=\"402\" y=\"-294.25\" font-family=\"monospace\" font-size=\"10.00\">tensor([4., 5., 6.], requires_grad=True)</text>\n<text text-anchor=\"middle\" x=\"402\" y=\"-283\" font-family=\"monospace\" font-size=\"10.00\"> (3)</text>\n</g>\n<!-- 140425591739776&#45;&gt;140425591761568 -->\n<g id=\"edge5\" class=\"edge\">\n<title>140425591739776&#45;&gt;140425591761568</title>\n<path fill=\"none\" stroke=\"black\" d=\"M392.36,-276.95C387.22,-269.19 380.84,-259.56 375.35,-251.26\"/>\n<polygon fill=\"black\" stroke=\"black\" points=\"378.29,-249.37 369.85,-242.96 372.45,-253.23 378.29,-249.37\"/>\n</g>\n</g>\n</svg>\n",
      "text/plain": "<graphviz.graphs.Digraph at 0x7fb7618c01f0>"
     },
     "execution_count": 5,
     "metadata": {},
     "output_type": "execute_result"
    }
   ]
  },
  {
   "cell_type": "code",
   "source": [
    "s.backward()"
   ],
   "metadata": {
    "id": "eFjUD6kgEhoa"
   },
   "execution_count": 6,
   "outputs": []
  },
  {
   "cell_type": "markdown",
   "source": [
    "예시 1: 텐서 생성"
   ],
   "metadata": {
    "id": "0RZGc26GxA_Z"
   }
  },
  {
   "cell_type": "code",
   "source": [
    "# 0으로 채워진 텐서\n",
    "x = torch.zeros(2, 3)\n",
    "print(x)\n",
    "\n",
    "# 1로 채워진 텐서\n",
    "y = torch.ones(2, 3)\n",
    "print(y)\n",
    "\n",
    "# 특정 값을 기준으로 텐서 생성\n",
    "z = torch.tensor([[1, 2], [3, 4]])\n",
    "print(z)"
   ],
   "metadata": {
    "colab": {
     "base_uri": "https://localhost:8080/"
    },
    "id": "b5THdj1vwg45",
    "outputId": "cc112788-e7c7-41d3-ec79-3209c41fa211"
   },
   "execution_count": 7,
   "outputs": [
    {
     "name": "stdout",
     "output_type": "stream",
     "text": [
      "tensor([[0., 0., 0.],\n",
      "        [0., 0., 0.]])\n",
      "tensor([[1., 1., 1.],\n",
      "        [1., 1., 1.]])\n",
      "tensor([[1, 2],\n",
      "        [3, 4]])\n"
     ]
    }
   ]
  },
  {
   "cell_type": "markdown",
   "source": [
    "예시 2: 텐서 타입 및 크기 확인"
   ],
   "metadata": {
    "id": "gOaJDd6qxKrQ"
   }
  },
  {
   "cell_type": "code",
   "source": [
    "x = torch.rand(2, 3, 4)\n",
    "print(x.dtype)    # torch.float32 (기본 데이터 타입)\n",
    "print(x.size())   # torch.Size([2, 3, 4])"
   ],
   "metadata": {
    "colab": {
     "base_uri": "https://localhost:8080/"
    },
    "id": "xyErcZnOxIh8",
    "outputId": "6f42326a-0535-4d00-abed-6912c0e37bf9"
   },
   "execution_count": 8,
   "outputs": [
    {
     "name": "stdout",
     "output_type": "stream",
     "text": [
      "torch.float32\n",
      "torch.Size([2, 3, 4])\n"
     ]
    }
   ]
  },
  {
   "cell_type": "code",
   "source": [
    "x"
   ],
   "metadata": {
    "colab": {
     "base_uri": "https://localhost:8080/"
    },
    "id": "eMcfCSXdFa9I",
    "outputId": "4ee71930-3718-4290-f22d-32ecad97c05a"
   },
   "execution_count": 9,
   "outputs": [
    {
     "data": {
      "text/plain": "tensor([[[0.5431, 0.3985, 0.4023, 0.9902],\n         [0.5961, 0.2820, 0.9013, 0.4628],\n         [0.4288, 0.8105, 0.7077, 0.7468]],\n\n        [[0.8499, 0.9883, 0.6767, 0.0709],\n         [0.4562, 0.4276, 0.7877, 0.6723],\n         [0.2554, 0.2458, 0.1387, 0.9601]]])"
     },
     "execution_count": 9,
     "metadata": {},
     "output_type": "execute_result"
    }
   ]
  },
  {
   "cell_type": "markdown",
   "source": [
    "예시 3: 텐서 변환 (reshape)"
   ],
   "metadata": {
    "id": "CCiEG1iOxTNw"
   }
  },
  {
   "cell_type": "code",
   "source": [
    "x = torch.rand(4, 4)\n",
    "y = x.view(16)\n",
    "z = x.view(-1, 8)  # -1은 차원을 추론하여 자동 계산한다는 의미\n",
    "\n",
    "print(y.size())    # torch.Size([16])\n",
    "print(z.size())    # torch.Size([2, 8])"
   ],
   "metadata": {
    "colab": {
     "base_uri": "https://localhost:8080/"
    },
    "id": "LK_7AfcoxRS6",
    "outputId": "1a982d47-d540-4eb8-c7cb-26421ba739bc"
   },
   "execution_count": 10,
   "outputs": [
    {
     "name": "stdout",
     "output_type": "stream",
     "text": [
      "torch.Size([16])\n",
      "torch.Size([2, 8])\n"
     ]
    }
   ]
  },
  {
   "cell_type": "markdown",
   "source": [
    "예시 4: 텐서 연결 (concatenation)"
   ],
   "metadata": {
    "id": "we8y5IBxxt6U"
   }
  },
  {
   "cell_type": "code",
   "source": [
    "a = torch.tensor([[1, 2], [3, 4]])\n",
    "b = torch.tensor([[5, 6]])\n",
    "c = torch.cat([a, b], dim=0) # dim=0은 행을 기준으로 병합\n",
    "print(c)\n",
    "print(c.size())"
   ],
   "metadata": {
    "colab": {
     "base_uri": "https://localhost:8080/"
    },
    "id": "sFyCT34-xWbS",
    "outputId": "c09ffd76-8d0f-4541-fb2c-3d7130b15cb2"
   },
   "execution_count": 11,
   "outputs": [
    {
     "name": "stdout",
     "output_type": "stream",
     "text": [
      "tensor([[1, 2],\n",
      "        [3, 4],\n",
      "        [5, 6]])\n",
      "torch.Size([3, 2])\n"
     ]
    }
   ]
  },
  {
   "cell_type": "markdown",
   "source": [
    "5. 예시 5: 차원 추가 및 제거"
   ],
   "metadata": {
    "id": "CRZ8g4dSyXc-"
   }
  },
  {
   "cell_type": "code",
   "source": [
    "x = torch.tensor([1, 2, 3, 4])\n",
    "x1 = x.unsqueeze(0)    # 차원 추가\n",
    "x2 = x1.squeeze(0)     # 차원 제거\n",
    "print(x1)\n",
    "print(x1.size())\n",
    "print(x2)\n",
    "print(x2.size())"
   ],
   "metadata": {
    "colab": {
     "base_uri": "https://localhost:8080/"
    },
    "id": "YKrytPfCxwB7",
    "outputId": "e2af847b-ebfd-4967-c3ef-edee03beb0da"
   },
   "execution_count": 12,
   "outputs": [
    {
     "name": "stdout",
     "output_type": "stream",
     "text": [
      "tensor([[1, 2, 3, 4]])\n",
      "torch.Size([1, 4])\n",
      "tensor([1, 2, 3, 4])\n",
      "torch.Size([4])\n"
     ]
    }
   ]
  },
  {
   "cell_type": "markdown",
   "source": [
    "예시 6. 텐서 인덱싱 및 슬라이싱"
   ],
   "metadata": {
    "id": "DivJ1TUJymNF"
   }
  },
  {
   "cell_type": "code",
   "source": [
    "x = torch.tensor([[1, 2, 3], [4, 5, 6], [7, 8, 9]])\n",
    "print(x)          # 텐서 원본\n",
    "print(x[0, :])    # 첫 번째 행 전체\n",
    "print(x[:, 1])    # 두 번째 열 전체\n",
    "print(x[1:, 1:])  # 첫 번째 행 이후의 각 행의, 첫 번째 열 이후의 각 열"
   ],
   "metadata": {
    "colab": {
     "base_uri": "https://localhost:8080/"
    },
    "id": "pVb0g9owyZou",
    "outputId": "c985bb4c-841f-4e36-bef4-bc580afc0a7c"
   },
   "execution_count": 13,
   "outputs": [
    {
     "name": "stdout",
     "output_type": "stream",
     "text": [
      "tensor([[1, 2, 3],\n",
      "        [4, 5, 6],\n",
      "        [7, 8, 9]])\n",
      "tensor([1, 2, 3])\n",
      "tensor([2, 5, 8])\n",
      "tensor([[5, 6],\n",
      "        [8, 9]])\n"
     ]
    }
   ]
  },
  {
   "cell_type": "markdown",
   "source": [
    "예시 7. 텐서 분리 (splitting)"
   ],
   "metadata": {
    "id": "WldJZZsNy-r2"
   }
  },
  {
   "cell_type": "code",
   "source": [
    "x = torch.tensor([[1, 2, 3], [4, 5, 6], [7, 8, 9], [10, 11, 12]])\n",
    "a, b = torch.split(x, 2, dim=0)  # 행 기준으로, 2개씩 분리\n",
    "print(x) # 텐서 원본\n",
    "print(a)\n",
    "print(b)"
   ],
   "metadata": {
    "colab": {
     "base_uri": "https://localhost:8080/"
    },
    "id": "601SVB9myoMB",
    "outputId": "b7df18c6-d649-4948-c026-80d56add24c8"
   },
   "execution_count": 14,
   "outputs": [
    {
     "name": "stdout",
     "output_type": "stream",
     "text": [
      "tensor([[ 1,  2,  3],\n",
      "        [ 4,  5,  6],\n",
      "        [ 7,  8,  9],\n",
      "        [10, 11, 12]])\n",
      "tensor([[1, 2, 3],\n",
      "        [4, 5, 6]])\n",
      "tensor([[ 7,  8,  9],\n",
      "        [10, 11, 12]])\n"
     ]
    }
   ]
  },
  {
   "cell_type": "markdown",
   "source": [
    "예시 8: 텐서 전치 (transpose)"
   ],
   "metadata": {
    "id": "390EbfCkzLNq"
   }
  },
  {
   "cell_type": "code",
   "source": [
    "x = torch.tensor([[1, 2], [3, 4], [5, 6]])\n",
    "print(x)\n",
    "print(x.transpose(0, 1))  # 0번째와 1번째 차원을 전치"
   ],
   "metadata": {
    "colab": {
     "base_uri": "https://localhost:8080/"
    },
    "id": "Q5RRpW_YzD7i",
    "outputId": "a195bfa7-0053-48c1-d777-ef0e386bcdcd"
   },
   "execution_count": 15,
   "outputs": [
    {
     "name": "stdout",
     "output_type": "stream",
     "text": [
      "tensor([[1, 2],\n",
      "        [3, 4],\n",
      "        [5, 6]])\n",
      "tensor([[1, 3, 5],\n",
      "        [2, 4, 6]])\n"
     ]
    }
   ]
  },
  {
   "cell_type": "markdown",
   "source": [
    "## nn.Module\n",
    "\n",
    "`nn.Module`은 PyTorch의 신경망 구성을 위한 레이어 혹은 모델을 위한 클래스\n",
    "\n",
    "<img alt=\"FC Layer\" width=\"480\" src=\"data:image/png;base64,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\" />"
   ],
   "metadata": {
    "id": "EECvJIbjKCwq"
   }
  },
  {
   "cell_type": "code",
   "source": [
    "class LinearModule(nn.Module):\n",
    "    def __init__(self, input_dim, output_dim):\n",
    "        super().__init__()\n",
    "        self.fc = nn.Linear(input_dim, output_dim)\n",
    "\n",
    "    def forward(self, x):\n",
    "        return self.fc(x)"
   ],
   "metadata": {
    "id": "mXrAcl79KBVx"
   },
   "execution_count": 16,
   "outputs": []
  },
  {
   "cell_type": "code",
   "source": [
    "model = LinearModule(3, 2)\n",
    "x = torch.randn(10, 3)\n",
    "output = model(x)\n",
    "output"
   ],
   "metadata": {
    "colab": {
     "base_uri": "https://localhost:8080/"
    },
    "id": "s622v1SIKeV-",
    "outputId": "7aeb5eae-d457-4a0a-b2a1-bdd0fed271e1"
   },
   "execution_count": 17,
   "outputs": [
    {
     "data": {
      "text/plain": "tensor([[ 0.9262,  0.2082],\n        [ 0.9731, -0.1266],\n        [ 0.0950, -0.2128],\n        [ 0.0058, -0.6424],\n        [ 0.2317, -0.3279],\n        [ 0.7114, -0.1695],\n        [ 0.2301, -0.3957],\n        [ 0.4126, -0.0923],\n        [-0.4135, -0.8156],\n        [ 0.5607, -0.3183]], grad_fn=<AddmmBackward0>)"
     },
     "execution_count": 17,
     "metadata": {},
     "output_type": "execute_result"
    }
   ]
  },
  {
   "cell_type": "markdown",
   "source": [
    "## 실습: XOR 예측 문제\n",
    "\n",
    "XOR 게이트 입력 매개변수 A, B를 주었을 때 출력 Y(A⊕B)를 계산하는 모델을 학습 및 구성.\n",
    "회로는 설계하는 방식이 아니라, input과 output을 주고, fully connected 모델의 가중치를 학습하면서 예측 모델을 만드는 것인 점을 알아두고 가자.\n",
    "\n",
    "<img alt=\"XOR Architecture\" width=\"520\" src=\"data:image/png;base64,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\" />"
   ],
   "metadata": {
    "id": "SW-exXyv8V4o"
   }
  },
  {
   "cell_type": "code",
   "source": [
    "# XOR 연산을 위한 신경망 모델 정의\n",
    "class XORModel(nn.Module):\n",
    "    def __init__(self):\n",
    "        super(XORModel, self).__init__()\n",
    "        self.layer1 = nn.Linear(2, 2)  # 입력 2개, 출력 2개\n",
    "        self.layer2 = nn.Linear(2, 1)  # 입력 2개, 출력 1개\n",
    "        self.sigmoid = nn.Sigmoid()\n",
    "\n",
    "    def forward(self, x):\n",
    "        x = self.sigmoid(self.layer1(x))\n",
    "        x = self.sigmoid(self.layer2(x))\n",
    "        return x"
   ],
   "metadata": {
    "id": "oqUHgbUA7_fN"
   },
   "execution_count": 18,
   "outputs": []
  },
  {
   "cell_type": "code",
   "source": [
    "# 데이터 정의\n",
    "x_data = torch.tensor([[0, 0], [0, 1], [1, 0], [1, 1]], dtype=torch.float32)\n",
    "y_data = torch.tensor([[0], [1], [1], [0]], dtype=torch.float32)\n",
    "\n",
    "# 모델 초기화\n",
    "model = XORModel()\n",
    "\n",
    "# 손실 함수 및 최적화 알고리즘 정의\n",
    "criterion = nn.BCELoss()  # Binary Cross-Entropy loss\n",
    "optimizer = optim.SGD(model.parameters(), lr=0.1)"
   ],
   "metadata": {
    "id": "iB7-18LHzOHH"
   },
   "execution_count": 19,
   "outputs": []
  },
  {
   "cell_type": "code",
   "source": [
    "# 모델 학습\n",
    "losses = []\n",
    "for epoch in range(100001):\n",
    "    # Forward pass\n",
    "    outputs = model(x_data)\n",
    "    loss = criterion(outputs, y_data)\n",
    "\n",
    "    # Backward pass and optimization\n",
    "    optimizer.zero_grad()\n",
    "    loss.backward()\n",
    "    optimizer.step()\n",
    "\n",
    "    losses.append(loss.item())\n",
    "\n",
    "    if epoch % 1000 == 0:\n",
    "        print(f'Epoch [{epoch}/10000], Loss: {loss.item():.4f}')"
   ],
   "metadata": {
    "colab": {
     "base_uri": "https://localhost:8080/"
    },
    "id": "exTbU3ho75fc",
    "outputId": "cec78410-fefa-4681-a9db-f6a47e04e984"
   },
   "execution_count": 20,
   "outputs": [
    {
     "name": "stdout",
     "output_type": "stream",
     "text": [
      "Epoch [0/10000], Loss: 0.7091\n",
      "Epoch [1000/10000], Loss: 0.6932\n",
      "Epoch [2000/10000], Loss: 0.6931\n",
      "Epoch [3000/10000], Loss: 0.6931\n",
      "Epoch [4000/10000], Loss: 0.6931\n",
      "Epoch [5000/10000], Loss: 0.6931\n",
      "Epoch [6000/10000], Loss: 0.6931\n",
      "Epoch [7000/10000], Loss: 0.6931\n",
      "Epoch [8000/10000], Loss: 0.6931\n",
      "Epoch [9000/10000], Loss: 0.6930\n",
      "Epoch [10000/10000], Loss: 0.6930\n",
      "Epoch [11000/10000], Loss: 0.6930\n",
      "Epoch [12000/10000], Loss: 0.6929\n",
      "Epoch [13000/10000], Loss: 0.6927\n",
      "Epoch [14000/10000], Loss: 0.6924\n",
      "Epoch [15000/10000], Loss: 0.6918\n",
      "Epoch [16000/10000], Loss: 0.6903\n",
      "Epoch [17000/10000], Loss: 0.6854\n",
      "Epoch [18000/10000], Loss: 0.6667\n",
      "Epoch [19000/10000], Loss: 0.5997\n",
      "Epoch [20000/10000], Loss: 0.2576\n",
      "Epoch [21000/10000], Loss: 0.0937\n",
      "Epoch [22000/10000], Loss: 0.0528\n",
      "Epoch [23000/10000], Loss: 0.0359\n",
      "Epoch [24000/10000], Loss: 0.0269\n",
      "Epoch [25000/10000], Loss: 0.0214\n",
      "Epoch [26000/10000], Loss: 0.0178\n",
      "Epoch [27000/10000], Loss: 0.0151\n",
      "Epoch [28000/10000], Loss: 0.0132\n",
      "Epoch [29000/10000], Loss: 0.0116\n",
      "Epoch [30000/10000], Loss: 0.0104\n",
      "Epoch [31000/10000], Loss: 0.0094\n",
      "Epoch [32000/10000], Loss: 0.0086\n",
      "Epoch [33000/10000], Loss: 0.0079\n",
      "Epoch [34000/10000], Loss: 0.0073\n",
      "Epoch [35000/10000], Loss: 0.0068\n",
      "Epoch [36000/10000], Loss: 0.0064\n",
      "Epoch [37000/10000], Loss: 0.0060\n",
      "Epoch [38000/10000], Loss: 0.0056\n",
      "Epoch [39000/10000], Loss: 0.0053\n",
      "Epoch [40000/10000], Loss: 0.0050\n",
      "Epoch [41000/10000], Loss: 0.0048\n",
      "Epoch [42000/10000], Loss: 0.0046\n",
      "Epoch [43000/10000], Loss: 0.0044\n",
      "Epoch [44000/10000], Loss: 0.0042\n",
      "Epoch [45000/10000], Loss: 0.0040\n",
      "Epoch [46000/10000], Loss: 0.0038\n",
      "Epoch [47000/10000], Loss: 0.0037\n",
      "Epoch [48000/10000], Loss: 0.0035\n",
      "Epoch [49000/10000], Loss: 0.0034\n",
      "Epoch [50000/10000], Loss: 0.0033\n",
      "Epoch [51000/10000], Loss: 0.0032\n",
      "Epoch [52000/10000], Loss: 0.0031\n",
      "Epoch [53000/10000], Loss: 0.0030\n",
      "Epoch [54000/10000], Loss: 0.0029\n",
      "Epoch [55000/10000], Loss: 0.0028\n",
      "Epoch [56000/10000], Loss: 0.0027\n",
      "Epoch [57000/10000], Loss: 0.0027\n",
      "Epoch [58000/10000], Loss: 0.0026\n",
      "Epoch [59000/10000], Loss: 0.0025\n",
      "Epoch [60000/10000], Loss: 0.0024\n",
      "Epoch [61000/10000], Loss: 0.0024\n",
      "Epoch [62000/10000], Loss: 0.0023\n",
      "Epoch [63000/10000], Loss: 0.0023\n",
      "Epoch [64000/10000], Loss: 0.0022\n",
      "Epoch [65000/10000], Loss: 0.0022\n",
      "Epoch [66000/10000], Loss: 0.0021\n",
      "Epoch [67000/10000], Loss: 0.0021\n",
      "Epoch [68000/10000], Loss: 0.0020\n",
      "Epoch [69000/10000], Loss: 0.0020\n",
      "Epoch [70000/10000], Loss: 0.0019\n",
      "Epoch [71000/10000], Loss: 0.0019\n",
      "Epoch [72000/10000], Loss: 0.0019\n",
      "Epoch [73000/10000], Loss: 0.0018\n",
      "Epoch [74000/10000], Loss: 0.0018\n",
      "Epoch [75000/10000], Loss: 0.0018\n",
      "Epoch [76000/10000], Loss: 0.0017\n",
      "Epoch [77000/10000], Loss: 0.0017\n",
      "Epoch [78000/10000], Loss: 0.0017\n",
      "Epoch [79000/10000], Loss: 0.0016\n",
      "Epoch [80000/10000], Loss: 0.0016\n",
      "Epoch [81000/10000], Loss: 0.0016\n",
      "Epoch [82000/10000], Loss: 0.0016\n",
      "Epoch [83000/10000], Loss: 0.0015\n",
      "Epoch [84000/10000], Loss: 0.0015\n",
      "Epoch [85000/10000], Loss: 0.0015\n",
      "Epoch [86000/10000], Loss: 0.0015\n",
      "Epoch [87000/10000], Loss: 0.0014\n",
      "Epoch [88000/10000], Loss: 0.0014\n",
      "Epoch [89000/10000], Loss: 0.0014\n",
      "Epoch [90000/10000], Loss: 0.0014\n",
      "Epoch [91000/10000], Loss: 0.0014\n",
      "Epoch [92000/10000], Loss: 0.0013\n",
      "Epoch [93000/10000], Loss: 0.0013\n",
      "Epoch [94000/10000], Loss: 0.0013\n",
      "Epoch [95000/10000], Loss: 0.0013\n",
      "Epoch [96000/10000], Loss: 0.0013\n",
      "Epoch [97000/10000], Loss: 0.0012\n",
      "Epoch [98000/10000], Loss: 0.0012\n",
      "Epoch [99000/10000], Loss: 0.0012\n",
      "Epoch [100000/10000], Loss: 0.0012\n"
     ]
    }
   ]
  },
  {
   "cell_type": "code",
   "source": [
    "# Loss 시각화\n",
    "plt.plot(losses)\n",
    "plt.xlabel('Epoch')\n",
    "plt.ylabel('Loss')\n",
    "plt.title('Training Loss')\n",
    "plt.show()"
   ],
   "metadata": {
    "colab": {
     "base_uri": "https://localhost:8080/",
     "height": 472
    },
    "id": "9TornfjB9JAo",
    "outputId": "d26524a1-f122-4f5e-f6a2-ba3fdd058cb6"
   },
   "execution_count": 21,
   "outputs": [
    {
     "data": {
      "text/plain": "<Figure size 640x480 with 1 Axes>",
      "image/png": "[encoded data removed]"
     },
     "metadata": {},
     "output_type": "display_data"
    }
   ]
  },
  {
   "cell_type": "code",
   "source": [
    "# 모델 테스트\n",
    "with torch.no_grad():\n",
    "    test = torch.tensor([[0, 0], [0, 1], [1, 0], [1, 1]], dtype=torch.float32)\n",
    "    predicted = model(test)\n",
    "    print(predicted)"
   ],
   "metadata": {
    "colab": {
     "base_uri": "https://localhost:8080/"
    },
    "id": "u6-6LWc47QTh",
    "outputId": "c3a5613b-7b74-4cdd-b8b5-1dc32859b476"
   },
   "execution_count": 22,
   "outputs": [
    {
     "name": "stdout",
     "output_type": "stream",
     "text": [
      "tensor([[0.0010],\n",
      "        [0.9989],\n",
      "        [0.9989],\n",
      "        [0.0016]])\n"
     ]
    }
   ]
  },
  {
   "cell_type": "code",
   "source": [
    "x = torch.randn(1, 2)\n",
    "y = model(x)\n",
    "make_dot(y, params={**dict(model.named_parameters()), y: y})"
   ],
   "metadata": {
    "colab": {
     "base_uri": "https://localhost:8080/",
     "height": 644
    },
    "id": "uZAZVC0l7UDK",
    "outputId": "cc19cd56-7ee2-490f-c199-e425215005bd"
   },
   "execution_count": 23,
   "outputs": [
    {
     "data": {
      "image/svg+xml": "<?xml version=\"1.0\" encoding=\"UTF-8\" standalone=\"no\"?>\n<!DOCTYPE svg PUBLIC \"-//W3C//DTD SVG 1.1//EN\"\n \"http://www.w3.org/Graphics/SVG/1.1/DTD/svg11.dtd\">\n<!-- Generated by graphviz version 9.0.0 (20230911.1827)\n -->\n<!-- Pages: 1 -->\n<svg width=\"348pt\" height=\"470pt\"\n viewBox=\"0.00 0.00 348.00 470.25\" xmlns=\"http://www.w3.org/2000/svg\" xmlns:xlink=\"http://www.w3.org/1999/xlink\">\n<g id=\"graph0\" class=\"graph\" transform=\"scale(1 1) rotate(0) translate(4 466.25)\">\n<polygon fill=\"white\" stroke=\"none\" points=\"-4,4 -4,-466.25 344,-466.25 344,4 -4,4\"/>\n<!-- 140425386591392 -->\n<g id=\"node1\" class=\"node\">\n<title>140425386591392</title>\n<polygon fill=\"#caff70\" stroke=\"black\" points=\"320,-30.5 28,-30.5 28,0 320,0 320,-30.5\"/>\n<text text-anchor=\"middle\" x=\"174\" y=\"-17\" font-family=\"monospace\" font-size=\"10.00\">tensor([[0.0010]], grad_fn=&lt;SigmoidBackward0&gt;)</text>\n<text text-anchor=\"middle\" x=\"174\" y=\"-5.75\" font-family=\"monospace\" font-size=\"10.00\"> (1, 1)</text>\n</g>\n<!-- 140425592315024 -->\n<g id=\"node2\" class=\"node\">\n<title>140425592315024</title>\n<polygon fill=\"lightgrey\" stroke=\"black\" points=\"230,-85.75 118,-85.75 118,-66.5 230,-66.5 230,-85.75\"/>\n<text text-anchor=\"middle\" x=\"174\" y=\"-72.25\" font-family=\"monospace\" font-size=\"10.00\">SigmoidBackward0</text>\n</g>\n<!-- 140425592315024&#45;&gt;140425386591392 -->\n<g id=\"edge14\" class=\"edge\">\n<title>140425592315024&#45;&gt;140425386591392</title>\n<path fill=\"none\" stroke=\"black\" d=\"M174,-66.18C174,-59.73 174,-50.66 174,-42.01\"/>\n<polygon fill=\"black\" stroke=\"black\" points=\"177.5,-42.3 174,-32.3 170.5,-42.3 177.5,-42.3\"/>\n</g>\n<!-- 140425592313152 -->\n<g id=\"node3\" class=\"node\">\n<title>140425592313152</title>\n<polygon fill=\"lightgrey\" stroke=\"black\" points=\"224,-141 124,-141 124,-121.75 224,-121.75 224,-141\"/>\n<text text-anchor=\"middle\" x=\"174\" y=\"-127.5\" font-family=\"monospace\" font-size=\"10.00\">AddmmBackward0</text>\n</g>\n<!-- 140425592313152&#45;&gt;140425592315024 -->\n<g id=\"edge1\" class=\"edge\">\n<title>140425592313152&#45;&gt;140425592315024</title>\n<path fill=\"none\" stroke=\"black\" d=\"M174,-121.58C174,-115.07 174,-105.92 174,-97.62\"/>\n<polygon fill=\"black\" stroke=\"black\" points=\"177.5,-97.62 174,-87.62 170.5,-97.62 177.5,-97.62\"/>\n</g>\n<!-- 140425382183408 -->\n<g id=\"node4\" class=\"node\">\n<title>140425382183408</title>\n<polygon fill=\"lightgrey\" stroke=\"black\" points=\"100,-196.25 0,-196.25 0,-177 100,-177 100,-196.25\"/>\n<text text-anchor=\"middle\" x=\"50\" y=\"-182.75\" font-family=\"monospace\" font-size=\"10.00\">AccumulateGrad</text>\n</g>\n<!-- 140425382183408&#45;&gt;140425592313152 -->\n<g id=\"edge2\" class=\"edge\">\n<title>140425382183408&#45;&gt;140425592313152</title>\n<path fill=\"none\" stroke=\"black\" d=\"M71.03,-176.59C90.63,-168.18 120.11,-155.52 142.51,-145.9\"/>\n<polygon fill=\"black\" stroke=\"black\" points=\"143.66,-149.21 151.47,-142.05 140.9,-142.78 143.66,-149.21\"/>\n</g>\n<!-- 140425592405536 -->\n<g id=\"node5\" class=\"node\">\n<title>140425592405536</title>\n<polygon fill=\"lightblue\" stroke=\"black\" points=\"91,-262.75 9,-262.75 9,-232.25 91,-232.25 91,-262.75\"/>\n<text text-anchor=\"middle\" x=\"50\" y=\"-249.25\" font-family=\"monospace\" font-size=\"10.00\">layer2.bias</text>\n<text text-anchor=\"middle\" x=\"50\" y=\"-238\" font-family=\"monospace\" font-size=\"10.00\"> (1)</text>\n</g>\n<!-- 140425592405536&#45;&gt;140425382183408 -->\n<g id=\"edge3\" class=\"edge\">\n<title>140425592405536&#45;&gt;140425382183408</title>\n<path fill=\"none\" stroke=\"black\" d=\"M50,-231.95C50,-224.71 50,-215.84 50,-207.94\"/>\n<polygon fill=\"black\" stroke=\"black\" points=\"53.5,-208.21 50,-198.21 46.5,-208.21 53.5,-208.21\"/>\n</g>\n<!-- 140425382183648 -->\n<g id=\"node6\" class=\"node\">\n<title>140425382183648</title>\n<polygon fill=\"lightgrey\" stroke=\"black\" points=\"230,-196.25 118,-196.25 118,-177 230,-177 230,-196.25\"/>\n<text text-anchor=\"middle\" x=\"174\" y=\"-182.75\" font-family=\"monospace\" font-size=\"10.00\">SigmoidBackward0</text>\n</g>\n<!-- 140425382183648&#45;&gt;140425592313152 -->\n<g id=\"edge4\" class=\"edge\">\n<title>140425382183648&#45;&gt;140425592313152</title>\n<path fill=\"none\" stroke=\"black\" d=\"M174,-176.83C174,-170.32 174,-161.17 174,-152.87\"/>\n<polygon fill=\"black\" stroke=\"black\" points=\"177.5,-152.87 174,-142.87 170.5,-152.87 177.5,-152.87\"/>\n</g>\n<!-- 140425382188256 -->\n<g id=\"node7\" class=\"node\">\n<title>140425382188256</title>\n<polygon fill=\"lightgrey\" stroke=\"black\" points=\"222,-257.12 122,-257.12 122,-237.88 222,-237.88 222,-257.12\"/>\n<text text-anchor=\"middle\" x=\"172\" y=\"-243.62\" font-family=\"monospace\" font-size=\"10.00\">AddmmBackward0</text>\n</g>\n<!-- 140425382188256&#45;&gt;140425382183648 -->\n<g id=\"edge5\" class=\"edge\">\n<title>140425382188256&#45;&gt;140425382183648</title>\n<path fill=\"none\" stroke=\"black\" d=\"M172.3,-237.56C172.57,-229.69 172.97,-217.95 173.31,-207.82\"/>\n<polygon fill=\"black\" stroke=\"black\" points=\"176.8,-208.28 173.64,-198.16 169.8,-208.04 176.8,-208.28\"/>\n</g>\n<!-- 140425382188448 -->\n<g id=\"node8\" class=\"node\">\n<title>140425382188448</title>\n<polygon fill=\"lightgrey\" stroke=\"black\" points=\"122,-323.62 22,-323.62 22,-304.38 122,-304.38 122,-323.62\"/>\n<text text-anchor=\"middle\" x=\"72\" y=\"-310.12\" font-family=\"monospace\" font-size=\"10.00\">AccumulateGrad</text>\n</g>\n<!-- 140425382188448&#45;&gt;140425382188256 -->\n<g id=\"edge6\" class=\"edge\">\n<title>140425382188448&#45;&gt;140425382188256</title>\n<path fill=\"none\" stroke=\"black\" d=\"M85.9,-304.03C102.01,-293.64 128.81,-276.36 148.24,-263.83\"/>\n<polygon fill=\"black\" stroke=\"black\" points=\"150.11,-266.78 156.62,-258.42 146.32,-260.9 150.11,-266.78\"/>\n</g>\n<!-- 140425592397616 -->\n<g id=\"node9\" class=\"node\">\n<title>140425592397616</title>\n<polygon fill=\"lightblue\" stroke=\"black\" points=\"112,-395.75 30,-395.75 30,-365.25 112,-365.25 112,-395.75\"/>\n<text text-anchor=\"middle\" x=\"71\" y=\"-382.25\" font-family=\"monospace\" font-size=\"10.00\">layer1.bias</text>\n<text text-anchor=\"middle\" x=\"71\" y=\"-371\" font-family=\"monospace\" font-size=\"10.00\"> (2)</text>\n</g>\n<!-- 140425592397616&#45;&gt;140425382188448 -->\n<g id=\"edge7\" class=\"edge\">\n<title>140425592397616&#45;&gt;140425382188448</title>\n<path fill=\"none\" stroke=\"black\" d=\"M71.23,-364.86C71.36,-356.08 71.54,-344.77 71.69,-335.15\"/>\n<polygon fill=\"black\" stroke=\"black\" points=\"75.18,-335.39 71.84,-325.34 68.19,-335.28 75.18,-335.39\"/>\n</g>\n<!-- 140425382188688 -->\n<g id=\"node10\" class=\"node\">\n<title>140425382188688</title>\n<polygon fill=\"lightgrey\" stroke=\"black\" points=\"217,-323.62 141,-323.62 141,-304.38 217,-304.38 217,-323.62\"/>\n<text text-anchor=\"middle\" x=\"179\" y=\"-310.12\" font-family=\"monospace\" font-size=\"10.00\">TBackward0</text>\n</g>\n<!-- 140425382188688&#45;&gt;140425382188256 -->\n<g id=\"edge8\" class=\"edge\">\n<title>140425382188688&#45;&gt;140425382188256</title>\n<path fill=\"none\" stroke=\"black\" d=\"M178.03,-304.03C177.03,-294.89 175.46,-280.39 174.17,-268.5\"/>\n<polygon fill=\"black\" stroke=\"black\" points=\"177.69,-268.46 173.13,-258.9 170.73,-269.22 177.69,-268.46\"/>\n</g>\n<!-- 140425382188400 -->\n<g id=\"node11\" class=\"node\">\n<title>140425382188400</title>\n<polygon fill=\"lightgrey\" stroke=\"black\" points=\"230,-390.12 130,-390.12 130,-370.88 230,-370.88 230,-390.12\"/>\n<text text-anchor=\"middle\" x=\"180\" y=\"-376.62\" font-family=\"monospace\" font-size=\"10.00\">AccumulateGrad</text>\n</g>\n<!-- 140425382188400&#45;&gt;140425382188688 -->\n<g id=\"edge9\" class=\"edge\">\n<title>140425382188400&#45;&gt;140425382188688</title>\n<path fill=\"none\" stroke=\"black\" d=\"M179.86,-370.53C179.72,-361.48 179.5,-347.2 179.32,-335.38\"/>\n<polygon fill=\"black\" stroke=\"black\" points=\"182.82,-335.35 179.16,-325.41 175.82,-335.46 182.82,-335.35\"/>\n</g>\n<!-- 140425592397376 -->\n<g id=\"node12\" class=\"node\">\n<title>140425592397376</title>\n<polygon fill=\"lightblue\" stroke=\"black\" points=\"227,-462.25 133,-462.25 133,-431.75 227,-431.75 227,-462.25\"/>\n<text text-anchor=\"middle\" x=\"180\" y=\"-448.75\" font-family=\"monospace\" font-size=\"10.00\">layer1.weight</text>\n<text text-anchor=\"middle\" x=\"180\" y=\"-437.5\" font-family=\"monospace\" font-size=\"10.00\"> (2, 2)</text>\n</g>\n<!-- 140425592397376&#45;&gt;140425382188400 -->\n<g id=\"edge10\" class=\"edge\">\n<title>140425592397376&#45;&gt;140425382188400</title>\n<path fill=\"none\" stroke=\"black\" d=\"M180,-431.36C180,-422.58 180,-411.27 180,-401.65\"/>\n<polygon fill=\"black\" stroke=\"black\" points=\"183.5,-401.84 180,-391.84 176.5,-401.84 183.5,-401.84\"/>\n</g>\n<!-- 140425382188304 -->\n<g id=\"node13\" class=\"node\">\n<title>140425382188304</title>\n<polygon fill=\"lightgrey\" stroke=\"black\" points=\"325,-196.25 249,-196.25 249,-177 325,-177 325,-196.25\"/>\n<text text-anchor=\"middle\" x=\"287\" y=\"-182.75\" font-family=\"monospace\" font-size=\"10.00\">TBackward0</text>\n</g>\n<!-- 140425382188304&#45;&gt;140425592313152 -->\n<g id=\"edge11\" class=\"edge\">\n<title>140425382188304&#45;&gt;140425592313152</title>\n<path fill=\"none\" stroke=\"black\" d=\"M267.83,-176.59C250.22,-168.29 223.84,-155.86 203.54,-146.29\"/>\n<polygon fill=\"black\" stroke=\"black\" points=\"205.17,-143.19 194.63,-142.1 202.19,-149.53 205.17,-143.19\"/>\n</g>\n<!-- 140425382188160 -->\n<g id=\"node14\" class=\"node\">\n<title>140425382188160</title>\n<polygon fill=\"lightgrey\" stroke=\"black\" points=\"340,-257.12 240,-257.12 240,-237.88 340,-237.88 340,-257.12\"/>\n<text text-anchor=\"middle\" x=\"290\" y=\"-243.62\" font-family=\"monospace\" font-size=\"10.00\">AccumulateGrad</text>\n</g>\n<!-- 140425382188160&#45;&gt;140425382188304 -->\n<g id=\"edge12\" class=\"edge\">\n<title>140425382188160&#45;&gt;140425382188304</title>\n<path fill=\"none\" stroke=\"black\" d=\"M289.54,-237.56C289.14,-229.69 288.55,-217.95 288.03,-207.82\"/>\n<polygon fill=\"black\" stroke=\"black\" points=\"291.54,-207.97 287.54,-198.16 284.55,-208.33 291.54,-207.97\"/>\n</g>\n<!-- 140425592403456 -->\n<g id=\"node15\" class=\"node\">\n<title>140425592403456</title>\n<polygon fill=\"lightblue\" stroke=\"black\" points=\"337,-329.25 243,-329.25 243,-298.75 337,-298.75 337,-329.25\"/>\n<text text-anchor=\"middle\" x=\"290\" y=\"-315.75\" font-family=\"monospace\" font-size=\"10.00\">layer2.weight</text>\n<text text-anchor=\"middle\" x=\"290\" y=\"-304.5\" font-family=\"monospace\" font-size=\"10.00\"> (1, 2)</text>\n</g>\n<!-- 140425592403456&#45;&gt;140425382188160 -->\n<g id=\"edge13\" class=\"edge\">\n<title>140425592403456&#45;&gt;140425382188160</title>\n<path fill=\"none\" stroke=\"black\" d=\"M290,-298.36C290,-289.58 290,-278.27 290,-268.65\"/>\n<polygon fill=\"black\" stroke=\"black\" points=\"293.5,-268.84 290,-258.84 286.5,-268.84 293.5,-268.84\"/>\n</g>\n</g>\n</svg>\n",
      "text/plain": "<graphviz.graphs.Digraph at 0x7fb7618c0ee0>"
     },
     "execution_count": 23,
     "metadata": {},
     "output_type": "execute_result"
    }
   ]
  }
 ]
}
